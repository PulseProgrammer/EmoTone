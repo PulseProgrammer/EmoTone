{
  "nbformat": 4,
  "nbformat_minor": 0,
  "metadata": {
    "colab": {
      "provenance": [],
      "mount_file_id": "1XIWWQZZFw0G30yGHhf-2Fy6SZgn6ywVO",
      "authorship_tag": "ABX9TyNQvqWv6Sto7PluxTLSUnAQ",
      "include_colab_link": true
    },
    "kernelspec": {
      "name": "python3",
      "display_name": "Python 3"
    },
    "language_info": {
      "name": "python"
    },
    "accelerator": "GPU",
    "gpuClass": "standard"
  },
  "cells": [
    {
      "cell_type": "markdown",
      "metadata": {
        "id": "view-in-github",
        "colab_type": "text"
      },
      "source": [
        "<a href=\"https://colab.research.google.com/github/PulseProgrammer/EmoTone/blob/CNN-Approach/EmoTone_CNN.ipynb\" target=\"_parent\"><img src=\"https://colab.research.google.com/assets/colab-badge.svg\" alt=\"Open In Colab\"/></a>"
      ]
    },
    {
      "cell_type": "code",
      "source": [
        "import pandas as pd\n",
        "import librosa \n",
        "import os \n",
        "import numpy as np\n",
        "import matplotlib.pyplot as plt\n",
        "from tensorflow import keras\n",
        "from tensorflow.keras import models\n",
        "from tensorflow.keras.models import load_model\n",
        "from sklearn.preprocessing import LabelEncoder\n",
        "import glob\n",
        "import random\n",
        "from keras.utils import to_categorical\n",
        "import keras\n",
        "from keras import models\n",
        "from keras import layers\n",
        "from keras import Input, Model\n",
        "from keras.layers import Dense\n",
        "from keras.layers import Activation\n",
        "from keras.layers import Conv1D\n",
        "from keras.layers import Conv2D\n",
        "from keras.layers import MaxPooling1D\n",
        "from keras.layers import MaxPooling2D\n",
        "from keras.layers import Flatten\n",
        "from sklearn.metrics import accuracy_score\n",
        "from sklearn.metrics import precision_score, recall_score"
      ],
      "metadata": {
        "id": "GT4SZ8TK6s8o"
      },
      "execution_count": null,
      "outputs": []
    },
    {
      "cell_type": "markdown",
      "source": [
        "Data Preprocessing Steps"
      ],
      "metadata": {
        "id": "lqXvoMGxgTZD"
      }
    },
    {
      "cell_type": "code",
      "source": [
        "dataset_path = \"/content/drive/MyDrive/Dataset/TESS Toronto emotional speech set data\"  #path to dataset "
      ],
      "metadata": {
        "id": "5KSFXtentpOZ"
      },
      "execution_count": null,
      "outputs": []
    },
    {
      "cell_type": "code",
      "source": [
        "audios = []\n",
        "emotion = []\n",
        "speaker= []       #setting up lists to store individuals (X and Ys) for data to fit into the model"
      ],
      "metadata": {
        "id": "0IzQ-NEr6aHa"
      },
      "execution_count": null,
      "outputs": []
    },
    {
      "cell_type": "code",
      "source": [
        "#Iterating over the dataset directory to store audio file paths and truth labels in the lists defined above \n",
        "\n",
        "for file_path in glob.glob(dataset_path + \"/*/*\"):      \n",
        "    audios.append(file_path)\n",
        "    parts = file_path.split(\"_\")\n",
        "    emotion.append(parts[-1].split(\".\")[0])\n",
        "    speaker.append((parts[-3].split(\"/\")[1]))\n",
        "\n",
        "speaker[2374] ='OAF'  #Specific audio file is named wrong in the audio set directory "
      ],
      "metadata": {
        "id": "qA7_K5hN6cYT"
      },
      "execution_count": null,
      "outputs": []
    },
    {
      "cell_type": "code",
      "source": [
        "print(audios[2374]) #file which is not named properly in the dataset \n",
        "print(speaker[2374]) #checking the updated file name\n",
        "print(len(emotion))\n",
        "print(len(audios))\n",
        "print(len(speaker))"
      ],
      "metadata": {
        "colab": {
          "base_uri": "https://localhost:8080/"
        },
        "id": "Mg-lh_Motqbb",
        "outputId": "79456367-217d-4ede-dbe5-78bfc1550764"
      },
      "execution_count": null,
      "outputs": [
        {
          "output_type": "stream",
          "name": "stdout",
          "text": [
            "/content/drive/MyDrive/Dataset/TESS Toronto emotional speech set data/OAF_neutral/OA_bite_neutral.wav\n",
            "OAF\n",
            "2799\n",
            "2799\n",
            "2799\n"
          ]
        }
      ]
    },
    {
      "cell_type": "code",
      "source": [
        "unique_elements = set(emotion) #creating a set of unique elements of emotion labels\n",
        "print(unique_elements)\n",
        "unique_elements = set(speaker) #creating a set of unique elements of speaker labels\n",
        "print(unique_elements)"
      ],
      "metadata": {
        "colab": {
          "base_uri": "https://localhost:8080/"
        },
        "id": "b9X5Op6f6jVN",
        "outputId": "489833c4-1862-42f8-e949-d890ecdee055"
      },
      "execution_count": null,
      "outputs": [
        {
          "output_type": "stream",
          "name": "stdout",
          "text": [
            "{'angry', 'neutral', 'happy', 'sad', 'fear', 'ps', 'disgust'}\n",
            "{'YAF', 'OAF'}\n"
          ]
        }
      ]
    },
    {
      "cell_type": "code",
      "source": [
        "data = [[a, b, c] for a, b, c in zip(audios, emotion, speaker)]     #storing all of our data into a list to be converted into an array to be used with the model\n",
        "DATA = np.array(data)     #type casting into an array \n",
        "DATA.shape\n",
        "np.random.shuffle(DATA) #shuffle the data since everything is arranged in an well-ordered manner which leads to improper results "
      ],
      "metadata": {
        "id": "PoPjFnRJ6kKg"
      },
      "execution_count": null,
      "outputs": []
    },
    {
      "cell_type": "code",
      "source": [
        "def stft_extract(filename):\n",
        "    y, sr = librosa.load(filename)  #load audio file \n",
        "    if len(y) < sr * 2:\n",
        "        # Pad the signal with zeros to make it 2 seconds long\n",
        "        num_zeros = sr * 2 - len(y)\n",
        "        y = np.pad(y, (0, num_zeros))\n",
        "    else:\n",
        "        # Trim the signal to 2 seconds\n",
        "        y = y[:sr * 2]\n",
        "    stft = np.abs(librosa.stft(y)) #stft with default parameters\n",
        "    # stft = np.abs(librosa.stft(y,n_fft=512,window='hann',win_length=512,hop_length=256))\n",
        "\n",
        "    return stft"
      ],
      "metadata": {
        "id": "I583bqMR_a_F"
      },
      "execution_count": null,
      "outputs": []
    },
    {
      "cell_type": "code",
      "source": [
        "x=[]\n",
        "for i in range(len(DATA)): \n",
        "    audio_path = DATA[i][0]\n",
        "    mel_spec = stft_extract(audio_path)\n",
        "    x.append(mel_spec)\n",
        "print(type(x))\n",
        "print(len(x))"
      ],
      "metadata": {
        "colab": {
          "base_uri": "https://localhost:8080/"
        },
        "id": "lCxzgm4P6_Fq",
        "outputId": "681803f9-5d80-42d5-e763-8da3f487f402"
      },
      "execution_count": null,
      "outputs": [
        {
          "output_type": "stream",
          "name": "stdout",
          "text": [
            "<class 'list'>\n",
            "2799\n"
          ]
        }
      ]
    },
    {
      "cell_type": "code",
      "source": [
        "X = [i for i in x]\n",
        "X = np.array(X) #type casting into an array \n",
        "print(\"Before expanding dimensions:\",X.shape) \n",
        "X = np.expand_dims(X, -1) #expanding dimensions so that it will fit for the tensorflow model - (batch_size, timesteps, input_dim, channels)\n",
        "print(\"After expanding dimensions:\", X.shape)"
      ],
      "metadata": {
        "colab": {
          "base_uri": "https://localhost:8080/"
        },
        "id": "FRQ8qogN_8A-",
        "outputId": "96f05030-4b08-42fa-dd33-a7013c239b79"
      },
      "execution_count": null,
      "outputs": [
        {
          "output_type": "stream",
          "name": "stdout",
          "text": [
            "Before expanding dimensions: (2799, 1025, 87)\n",
            "After expanding dimensions: (2799, 1025, 87, 1)\n"
          ]
        }
      ]
    },
    {
      "cell_type": "markdown",
      "source": [
        "Label Encoding"
      ],
      "metadata": {
        "id": "UYndlV3-gYOU"
      }
    },
    {
      "cell_type": "code",
      "source": [
        "emo = []\n",
        "spe = []\n",
        "le = LabelEncoder()                         #creating label encoder and fitting it on our labels for y_truths for training\n",
        "for i in range(len(DATA)): \n",
        "    z = DATA[i][1]\n",
        "    emo.append(z)\n",
        "y_encoded = le.fit_transform(emo)\n",
        "y_emotion = to_categorical(y_encoded)       #convert label-encoded categorical data into one-hot encoded vectors\n",
        "for i in range(len(DATA)): \n",
        "    z = DATA[i][2]\n",
        "    spe.append(z)\n",
        "y_encoded_1 = le.fit_transform(spe)\n",
        "y_speaker = to_categorical(y_encoded_1)     #convert label-encoded categorical data into one-hot encoded vectors\n",
        "\n",
        "print(y_encoded[4])\n",
        "print(emo[4])\n"
      ],
      "metadata": {
        "id": "IE-Af7afA2tw",
        "colab": {
          "base_uri": "https://localhost:8080/"
        },
        "outputId": "4f826e55-3811-49e5-f58d-d52fe4c1d247"
      },
      "execution_count": null,
      "outputs": [
        {
          "output_type": "stream",
          "name": "stdout",
          "text": [
            "2\n",
            "fear\n"
          ]
        }
      ]
    },
    {
      "cell_type": "markdown",
      "source": [
        "Creating a Model Architecture"
      ],
      "metadata": {
        "id": "Uj6UMhKrgfJr"
      }
    },
    {
      "cell_type": "code",
      "source": [
        "# Define input layer with shape (40, 1) - from code above\n",
        "input_layer = Input(shape=(1025, 87, 1))\n",
        "conv1 = Conv2D(32, (3, 3), activation=\"relu\", padding=\"same\")(input_layer)\n",
        "max_pool1 = MaxPooling2D(pool_size=(2, 2))(conv1)\n",
        "conv2 = Conv2D(64, (3, 3), activation=\"relu\", padding=\"same\")(max_pool1)\n",
        "max_pool2 = MaxPooling2D(pool_size=(2, 2))(conv2)\n",
        "flatten_layer = Flatten()(max_pool2)\n",
        "emotion_output = Dense(7, activation=\"softmax\", name=\"emotion_output\")(flatten_layer)\n",
        "speaker_output = Dense(2, activation=\"softmax\", name=\"speaker_output\")(flatten_layer)\n",
        "\n",
        "model = Model(inputs=input_layer, outputs=[emotion_output, speaker_output]) #create model instance\n",
        "model.summary()\n",
        "\n",
        "metrics = ['accuracy']\n",
        "learning_rate = 0.001\n",
        "optimizer = keras.optimizers.Adam(learning_rate=learning_rate)\n",
        "losses = ['categorical_crossentropy', 'binary_crossentropy']\n",
        "\n",
        "model.compile(optimizer=optimizer, loss=losses, metrics=metrics)  #model complilation\n"
      ],
      "metadata": {
        "colab": {
          "base_uri": "https://localhost:8080/"
        },
        "id": "v5Mr4593HR5k",
        "outputId": "5bdf378d-62f4-4f7c-bc96-1a8866c81766"
      },
      "execution_count": null,
      "outputs": [
        {
          "output_type": "stream",
          "name": "stdout",
          "text": [
            "Model: \"model\"\n",
            "__________________________________________________________________________________________________\n",
            " Layer (type)                   Output Shape         Param #     Connected to                     \n",
            "==================================================================================================\n",
            " input_1 (InputLayer)           [(None, 1025, 87, 1  0           []                               \n",
            "                                )]                                                                \n",
            "                                                                                                  \n",
            " conv2d (Conv2D)                (None, 1025, 87, 32  320         ['input_1[0][0]']                \n",
            "                                )                                                                 \n",
            "                                                                                                  \n",
            " max_pooling2d (MaxPooling2D)   (None, 512, 43, 32)  0           ['conv2d[0][0]']                 \n",
            "                                                                                                  \n",
            " conv2d_1 (Conv2D)              (None, 512, 43, 64)  18496       ['max_pooling2d[0][0]']          \n",
            "                                                                                                  \n",
            " max_pooling2d_1 (MaxPooling2D)  (None, 256, 21, 64)  0          ['conv2d_1[0][0]']               \n",
            "                                                                                                  \n",
            " flatten (Flatten)              (None, 344064)       0           ['max_pooling2d_1[0][0]']        \n",
            "                                                                                                  \n",
            " emotion_output (Dense)         (None, 7)            2408455     ['flatten[0][0]']                \n",
            "                                                                                                  \n",
            " speaker_output (Dense)         (None, 2)            688130      ['flatten[0][0]']                \n",
            "                                                                                                  \n",
            "==================================================================================================\n",
            "Total params: 3,115,401\n",
            "Trainable params: 3,115,401\n",
            "Non-trainable params: 0\n",
            "__________________________________________________________________________________________________\n"
          ]
        }
      ]
    },
    {
      "cell_type": "markdown",
      "source": [
        "Training and Validation on our dataset - Emotion and Speaker Recognition - Classification"
      ],
      "metadata": {
        "id": "su0VQ0L5gjoH"
      }
    },
    {
      "cell_type": "code",
      "source": [
        "history = model.fit(X, [y_emotion, y_speaker], validation_split=0.2, epochs=10, batch_size=64)\n"
      ],
      "metadata": {
        "colab": {
          "base_uri": "https://localhost:8080/"
        },
        "id": "E6KY5hxXA9V7",
        "outputId": "49361f60-aac6-4a08-e8dd-74f2422ee0e1"
      },
      "execution_count": null,
      "outputs": [
        {
          "output_type": "stream",
          "name": "stdout",
          "text": [
            "Epoch 1/10\n",
            "35/35 [==============================] - 19s 218ms/step - loss: 0.5108 - emotion_output_loss: 0.3262 - speaker_output_loss: 0.1846 - emotion_output_accuracy: 0.9174 - speaker_output_accuracy: 0.9433 - val_loss: 0.0575 - val_emotion_output_loss: 0.0529 - val_speaker_output_loss: 0.0046 - val_emotion_output_accuracy: 0.9857 - val_speaker_output_accuracy: 1.0000\n",
            "Epoch 2/10\n",
            "35/35 [==============================] - 4s 118ms/step - loss: 0.0181 - emotion_output_loss: 0.0153 - speaker_output_loss: 0.0028 - emotion_output_accuracy: 0.9946 - speaker_output_accuracy: 1.0000 - val_loss: 0.0311 - val_emotion_output_loss: 0.0299 - val_speaker_output_loss: 0.0012 - val_emotion_output_accuracy: 0.9929 - val_speaker_output_accuracy: 1.0000\n",
            "Epoch 3/10\n",
            "35/35 [==============================] - 4s 119ms/step - loss: 0.0033 - emotion_output_loss: 0.0024 - speaker_output_loss: 8.9200e-04 - emotion_output_accuracy: 0.9996 - speaker_output_accuracy: 1.0000 - val_loss: 0.0424 - val_emotion_output_loss: 0.0420 - val_speaker_output_loss: 3.7692e-04 - val_emotion_output_accuracy: 0.9929 - val_speaker_output_accuracy: 1.0000\n",
            "Epoch 4/10\n",
            "35/35 [==============================] - 5s 133ms/step - loss: 7.2264e-04 - emotion_output_loss: 3.8198e-04 - speaker_output_loss: 3.4065e-04 - emotion_output_accuracy: 1.0000 - speaker_output_accuracy: 1.0000 - val_loss: 0.0417 - val_emotion_output_loss: 0.0415 - val_speaker_output_loss: 1.7199e-04 - val_emotion_output_accuracy: 0.9964 - val_speaker_output_accuracy: 1.0000\n",
            "Epoch 5/10\n",
            "35/35 [==============================] - 4s 120ms/step - loss: 3.2927e-04 - emotion_output_loss: 1.5682e-04 - speaker_output_loss: 1.7245e-04 - emotion_output_accuracy: 1.0000 - speaker_output_accuracy: 1.0000 - val_loss: 0.0391 - val_emotion_output_loss: 0.0390 - val_speaker_output_loss: 9.2047e-05 - val_emotion_output_accuracy: 0.9946 - val_speaker_output_accuracy: 1.0000\n",
            "Epoch 6/10\n",
            "35/35 [==============================] - 4s 120ms/step - loss: 1.8601e-04 - emotion_output_loss: 8.6982e-05 - speaker_output_loss: 9.9028e-05 - emotion_output_accuracy: 1.0000 - speaker_output_accuracy: 1.0000 - val_loss: 0.0413 - val_emotion_output_loss: 0.0413 - val_speaker_output_loss: 5.4870e-05 - val_emotion_output_accuracy: 0.9946 - val_speaker_output_accuracy: 1.0000\n",
            "Epoch 7/10\n",
            "35/35 [==============================] - 5s 132ms/step - loss: 1.2122e-04 - emotion_output_loss: 5.9906e-05 - speaker_output_loss: 6.1312e-05 - emotion_output_accuracy: 1.0000 - speaker_output_accuracy: 1.0000 - val_loss: 0.0434 - val_emotion_output_loss: 0.0433 - val_speaker_output_loss: 3.3579e-05 - val_emotion_output_accuracy: 0.9946 - val_speaker_output_accuracy: 1.0000\n",
            "Epoch 8/10\n",
            "35/35 [==============================] - 4s 121ms/step - loss: 8.0367e-05 - emotion_output_loss: 4.1937e-05 - speaker_output_loss: 3.8430e-05 - emotion_output_accuracy: 1.0000 - speaker_output_accuracy: 1.0000 - val_loss: 0.0473 - val_emotion_output_loss: 0.0472 - val_speaker_output_loss: 1.7274e-05 - val_emotion_output_accuracy: 0.9946 - val_speaker_output_accuracy: 1.0000\n",
            "Epoch 9/10\n",
            "35/35 [==============================] - 4s 121ms/step - loss: 4.4248e-05 - emotion_output_loss: 2.5832e-05 - speaker_output_loss: 1.8416e-05 - emotion_output_accuracy: 1.0000 - speaker_output_accuracy: 1.0000 - val_loss: 0.0540 - val_emotion_output_loss: 0.0540 - val_speaker_output_loss: 7.4346e-06 - val_emotion_output_accuracy: 0.9946 - val_speaker_output_accuracy: 1.0000\n",
            "Epoch 10/10\n",
            "35/35 [==============================] - 4s 124ms/step - loss: 2.1853e-05 - emotion_output_loss: 1.4219e-05 - speaker_output_loss: 7.6341e-06 - emotion_output_accuracy: 1.0000 - speaker_output_accuracy: 1.0000 - val_loss: 0.0616 - val_emotion_output_loss: 0.0616 - val_speaker_output_loss: 3.1483e-06 - val_emotion_output_accuracy: 0.9929 - val_speaker_output_accuracy: 1.0000\n"
          ]
        }
      ]
    },
    {
      "cell_type": "markdown",
      "source": [
        "Plotting losses and model accuracies for Training and Validation steps"
      ],
      "metadata": {
        "id": "4FyVhmBIhck-"
      }
    },
    {
      "cell_type": "code",
      "source": [
        "# Plot accuracy\n",
        "plt.figure(figsize=(8, 6))\n",
        "plt.plot(history.epoch, history.history['emotion_output_accuracy'], linestyle='-', color='steelblue', linewidth=2, label='Emotion (Train)')\n",
        "plt.plot(history.epoch, history.history['speaker_output_accuracy'], linestyle='--', color='salmon', linewidth=2, label='Speaker (Train)')\n",
        "plt.plot(history.epoch, history.history['val_emotion_output_accuracy'], linestyle=':', color='darkgreen', linewidth=2, label='Emotion (Val)')\n",
        "plt.plot(history.epoch, history.history['val_speaker_output_accuracy'], linestyle='-.', color='purple', linewidth=2, label='Speaker (Val)')\n",
        "plt.grid(True)\n",
        "plt.legend(title='Legend', loc='lower right')\n",
        "plt.title('Model Accuracy')\n",
        "plt.xlabel('Epoch')\n",
        "plt.ylabel('Accuracy')\n",
        "plt.xticks(history.epoch)\n",
        "plt.show()\n",
        "\n",
        "print(\"\\n\")\n",
        "print(\"\\n\")\n",
        "\n",
        "# Plot loss\n",
        "plt.figure(figsize=(8, 6))\n",
        "plt.plot(history.epoch, history.history['loss'], linestyle='-', color='indigo', linewidth=2, label='Train')\n",
        "plt.plot(history.epoch, history.history['val_loss'], linestyle='--', color='coral', linewidth=2, label='Val')\n",
        "plt.grid(True)\n",
        "plt.legend(loc='upper right')\n",
        "plt.title('Model Loss')\n",
        "plt.xlabel('Epoch')\n",
        "plt.ylabel('Loss')\n",
        "plt.xticks(history.epoch)\n",
        "plt.show()\n"
      ],
      "metadata": {
        "colab": {
          "base_uri": "https://localhost:8080/",
          "height": 1000
        },
        "id": "qTRRwjBGBLpp",
        "outputId": "95ff2d3a-ac7a-4aaf-99ed-a6bfda92ab37"
      },
      "execution_count": null,
      "outputs": [
        {
          "output_type": "display_data",
          "data": {
            "text/plain": [
              "<Figure size 800x600 with 1 Axes>"
            ],
            "image/png": "[encoded data removed]"
          },
          "metadata": {}
        },
        {
          "output_type": "stream",
          "name": "stdout",
          "text": [
            "\n",
            "\n",
            "\n",
            "\n"
          ]
        },
        {
          "output_type": "display_data",
          "data": {
            "text/plain": [
              "<Figure size 800x600 with 1 Axes>"
            ],
            "image/png": "[encoded data removed]"
          },
          "metadata": {}
        }
      ]
    },
    {
      "cell_type": "markdown",
      "source": [
        "Saving - Loading Model \n",
        "\n",
        "Running the Model on the test audio (Not part of the traning)"
      ],
      "metadata": {
        "id": "RXUDJFWEs5iK"
      }
    },
    {
      "cell_type": "code",
      "source": [
        "model.save(\"model.h5\")    #save model for prediction\n",
        "model = load_model(\"/content/model.h5\") #load model\n",
        "\n",
        "\n",
        "#test audio pre processing\n",
        "emotion_gt = []\n",
        "speaker_gt = []\n",
        "test_file = \"/content/YAF_rain_fear.wav\"\n",
        "parts = test_file.split(\"_\")\n",
        "emotion_gt.append(parts[-1].split(\".\")[0])\n",
        "speaker_gt.append((parts[-3].split(\"/\")[2]))\n",
        "x_test= []\n",
        "mel_spec = stft_extract(test_file)\n",
        "x_test.append(mel_spec)\n",
        "print(type(x_test))\n",
        "print(len(x_test))\n",
        "X_test = np.array(x_test)\n",
        "print(type(X_test))\n",
        "print(X_test.shape)\n",
        "print(emotion_gt)\n",
        "print(speaker_gt)"
      ],
      "metadata": {
        "colab": {
          "base_uri": "https://localhost:8080/"
        },
        "id": "q5ZdJoTuQIkD",
        "outputId": "eaad878c-c197-4f42-e8bb-23a7b9d3a2ce"
      },
      "execution_count": null,
      "outputs": [
        {
          "output_type": "stream",
          "name": "stdout",
          "text": [
            "<class 'list'>\n",
            "1\n",
            "<class 'numpy.ndarray'>\n",
            "(1, 1025, 87)\n",
            "['fear']\n",
            "['YAF']\n"
          ]
        }
      ]
    },
    {
      "cell_type": "code",
      "source": [
        "y_pred_emotion, y_pred_speaker = model.predict(X_test)    #prediction"
      ],
      "metadata": {
        "colab": {
          "base_uri": "https://localhost:8080/"
        },
        "id": "dR4mnycCQbST",
        "outputId": "2f71d432-2527-403f-9f18-b37a55a7a2f7"
      },
      "execution_count": null,
      "outputs": [
        {
          "output_type": "stream",
          "name": "stdout",
          "text": [
            "1/1 [==============================] - 0s 65ms/step\n"
          ]
        }
      ]
    },
    {
      "cell_type": "markdown",
      "source": [
        "Prediction"
      ],
      "metadata": {
        "id": "1SX5x0r7tAjK"
      }
    },
    {
      "cell_type": "code",
      "source": [
        "emotion_labels = ['neutral', 'disgust', 'fear', 'ps', 'happy', 'angry', 'sad']\n",
        "speaker_labels = ['YAF', 'OAF']\n",
        "\n",
        "# Create and fit LabelEncoder for emotion labels\n",
        "emotion_le = LabelEncoder()\n",
        "emotion_le.fit(emotion_labels)\n",
        "\n",
        "# Create and fit LabelEncoder for speaker labels\n",
        "speaker_le = LabelEncoder()\n",
        "speaker_le.fit(speaker_labels)\n",
        "\n",
        "# Convert the predicted emotion and speaker labels from one-hot encoded format to class labels\n",
        "emotion_labels = emotion_le.inverse_transform(np.argmax(y_pred_emotion, axis=1))\n",
        "speaker_labels = speaker_le.inverse_transform(np.argmax(y_pred_speaker, axis=1))\n",
        "\n",
        "# Print the converted labels\n",
        "print(emotion_labels)\n",
        "print(speaker_labels)\n"
      ],
      "metadata": {
        "colab": {
          "base_uri": "https://localhost:8080/"
        },
        "id": "oVV2JIVmQdjl",
        "outputId": "ba5b1ad4-4385-45d1-f78b-775d98a9b2ec"
      },
      "execution_count": null,
      "outputs": [
        {
          "output_type": "stream",
          "name": "stdout",
          "text": [
            "['fear']\n",
            "['YAF']\n"
          ]
        }
      ]
    },
    {
      "cell_type": "markdown",
      "source": [
        "Accuracy measure\n",
        "\n",
        "\n"
      ],
      "metadata": {
        "id": "18M7mIPrrpwu"
      }
    },
    {
      "cell_type": "code",
      "source": [
        "# Calculate accuracy for emotion labels\n",
        "emotion_accuracy = accuracy_score(emotion_gt, emotion_labels)\n",
        "\n",
        "# Calculate accuracy for speaker labels\n",
        "speaker_accuracy = accuracy_score(speaker_gt, speaker_labels)\n",
        "\n",
        "# Print the accuracies\n",
        "print(f'Emotion Accuracy: {emotion_accuracy:.2f}')\n",
        "print(f'Speaker Accuracy: {speaker_accuracy:.2f}')\n"
      ],
      "metadata": {
        "colab": {
          "base_uri": "https://localhost:8080/"
        },
        "id": "fPrN2i1mp6bK",
        "outputId": "9b3ebf7a-ba3e-4f09-fc13-392ef7514619"
      },
      "execution_count": null,
      "outputs": [
        {
          "output_type": "stream",
          "name": "stdout",
          "text": [
            "Emotion Accuracy: 1.00\n",
            "Speaker Accuracy: 1.00\n"
          ]
        }
      ]
    },
    {
      "cell_type": "markdown",
      "source": [
        "Precision and Recall"
      ],
      "metadata": {
        "id": "KJ8O6ZUBruGc"
      }
    },
    {
      "cell_type": "code",
      "source": [
        "\n",
        "# Calculate true positives, false positives, false negatives for emotion labels\n",
        "TP_emotion = np.sum((emotion_gt == emotion_labels) & (emotion_labels != 'neutral'))\n",
        "FP_emotion = np.sum((emotion_gt != emotion_labels) & (emotion_labels != 'neutral'))\n",
        "FN_emotion = np.sum((emotion_gt == 'neutral') & (emotion_labels != 'neutral'))\n",
        "\n",
        "# Calculate precision and recall for emotion labels\n",
        "precision_emotion = precision_score(emotion_gt, emotion_labels, average='weighted', labels=emotion_labels)\n",
        "recall_emotion = recall_score(emotion_gt, emotion_labels, average='weighted', labels=emotion_labels)\n",
        "\n",
        "# Calculate true positives, false positives, false negatives for speaker labels\n",
        "TP_speaker = np.sum(speaker_gt == speaker_labels)\n",
        "FP_speaker = np.sum((speaker_gt != speaker_labels) & (speaker_labels != 'neutral'))\n",
        "FN_speaker = np.sum(speaker_gt != speaker_labels)\n",
        "\n",
        "# Calculate precision and recall for speaker labels\n",
        "precision_speaker = precision_score(speaker_gt, speaker_labels, average='weighted', labels=speaker_labels)\n",
        "recall_speaker = recall_score(speaker_gt, speaker_labels, average='weighted', labels=speaker_labels)\n",
        "\n",
        "print(\"Emotion Precision:\", precision_emotion)\n",
        "print(\"Emotion Recall:\", recall_emotion)\n",
        "print(\"Speaker Precision:\", precision_speaker)\n",
        "print(\"Speaker Recall:\", recall_speaker)\n"
      ],
      "metadata": {
        "colab": {
          "base_uri": "https://localhost:8080/"
        },
        "id": "7u-6HWMRiham",
        "outputId": "cdd1f58b-3dba-4329-f54d-f23d4b8b7bea"
      },
      "execution_count": null,
      "outputs": [
        {
          "output_type": "stream",
          "name": "stdout",
          "text": [
            "Emotion Precision: 1.0\n",
            "Emotion Recall: 1.0\n",
            "Speaker Precision: 1.0\n",
            "Speaker Recall: 1.0\n"
          ]
        }
      ]
    },
    {
      "cell_type": "markdown",
      "source": [
        "Saving - Loading Model \n",
        "\n",
        "Running the Model on the test audio (Custom recorded sample)"
      ],
      "metadata": {
        "id": "dfF6kFCOry_G"
      }
    },
    {
      "cell_type": "code",
      "source": [
        "#test audio pre processing\n",
        "\n",
        "test_file = \"/content/yaf-like_hapy_happy.wav\"\n",
        "\n",
        "x_test_new= []\n",
        "\n",
        "y, sr = librosa.load(test_file)  #load audio file \n",
        "if len(y) < sr * 2:\n",
        "    # Pad the signal with zeros to make it 2 seconds long\n",
        "    num_zeros = sr * 2 - len(y)\n",
        "    y = np.pad(y, (0, num_zeros))\n",
        "else:\n",
        "    # Trim the signal to 2 seconds\n",
        "    y = y[:sr * 2]\n",
        "stft = np.abs(librosa.stft(y)) #stft with default parameters\n",
        "x_test_new.append(stft)\n",
        "\n",
        "print(type(x_test_new))\n",
        "print(len(x_test_new))\n",
        "X_test_new = np.array(x_test_new)\n",
        "print(type(X_test_new))\n",
        "print(X_test_new.shape)\n",
        "\n",
        "\n"
      ],
      "metadata": {
        "colab": {
          "base_uri": "https://localhost:8080/"
        },
        "id": "9zMc6RDHkp2G",
        "outputId": "2dca9009-fb93-4089-ac4d-71e118c0ba50"
      },
      "execution_count": null,
      "outputs": [
        {
          "output_type": "stream",
          "name": "stdout",
          "text": [
            "<class 'list'>\n",
            "1\n",
            "<class 'numpy.ndarray'>\n",
            "(1, 1025, 87)\n"
          ]
        },
        {
          "output_type": "stream",
          "name": "stderr",
          "text": [
            "<ipython-input-27-ac4a3e6fe483>:7: UserWarning: PySoundFile failed. Trying audioread instead.\n",
            "  y, sr = librosa.load(test_file)  #load audio file\n",
            "/usr/local/lib/python3.9/dist-packages/librosa/core/audio.py:184: FutureWarning: librosa.core.audio.__audioread_load\n",
            "\tDeprecated as of librosa version 0.10.0.\n",
            "\tIt will be removed in librosa version 1.0.\n",
            "  y, sr_native = __audioread_load(path, offset, duration, dtype)\n"
          ]
        }
      ]
    },
    {
      "cell_type": "code",
      "source": [
        "y_pred_emotion, y_pred_speaker = model.predict(X_test_new)    #prediction"
      ],
      "metadata": {
        "colab": {
          "base_uri": "https://localhost:8080/"
        },
        "id": "eiaOtIO9lamR",
        "outputId": "98e7c90c-8632-4a6a-94eb-6018f5dbbf47"
      },
      "execution_count": null,
      "outputs": [
        {
          "output_type": "stream",
          "name": "stdout",
          "text": [
            "1/1 [==============================] - 0s 19ms/step\n"
          ]
        }
      ]
    },
    {
      "cell_type": "markdown",
      "source": [
        "Prediction"
      ],
      "metadata": {
        "id": "l2kLjT_Qr-WJ"
      }
    },
    {
      "cell_type": "code",
      "source": [
        "emotion_labels = ['neutral', 'disgust', 'fear', 'ps', 'happy', 'angry', 'sad']\n",
        "speaker_labels = ['YAF', 'OAF']\n",
        "\n",
        "# Create and fit LabelEncoder for emotion labels\n",
        "emotion_le = LabelEncoder()\n",
        "emotion_le.fit(emotion_labels)\n",
        "\n",
        "# Create and fit LabelEncoder for speaker labels\n",
        "speaker_le = LabelEncoder()\n",
        "speaker_le.fit(speaker_labels)\n",
        "\n",
        "# Convert the predicted emotion and speaker labels from one-hot encoded format to class labels\n",
        "emotion_labels = emotion_le.inverse_transform(np.argmax(y_pred_emotion, axis=1))\n",
        "speaker_labels = speaker_le.inverse_transform(np.argmax(y_pred_speaker, axis=1))\n",
        "\n",
        "# Print the converted labels\n",
        "print(emotion_labels)\n",
        "print(speaker_labels)\n"
      ],
      "metadata": {
        "colab": {
          "base_uri": "https://localhost:8080/"
        },
        "id": "IoZyGI3NlcJQ",
        "outputId": "274d7537-d42c-46ee-ca6e-6eb3ae3523a1"
      },
      "execution_count": null,
      "outputs": [
        {
          "output_type": "stream",
          "name": "stdout",
          "text": [
            "['happy']\n",
            "['YAF']\n"
          ]
        }
      ]
    }
  ]
}
