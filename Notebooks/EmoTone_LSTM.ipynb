{
  "nbformat": 4,
  "nbformat_minor": 0,
  "metadata": {
    "colab": {
      "provenance": [],
      "mount_file_id": "1nrxF7EsBuv1TP_vAjjRXAGJw5FVcj4Zb",
      "authorship_tag": "ABX9TyORfpGAfI74s1ejoPSQUMGz",
      "include_colab_link": true
    },
    "kernelspec": {
      "name": "python3",
      "display_name": "Python 3"
    },
    "language_info": {
      "name": "python"
    },
    "accelerator": "GPU",
    "gpuClass": "standard"
  },
  "cells": [
    {
      "cell_type": "markdown",
      "metadata": {
        "id": "view-in-github",
        "colab_type": "text"
      },
      "source": [
        "<a href=\"https://colab.research.google.com/github/PulseProgrammer/EmoTone/blob/LSTM-Approach/EmoTone_LSTM.ipynb\" target=\"_parent\"><img src=\"https://colab.research.google.com/assets/colab-badge.svg\" alt=\"Open In Colab\"/></a>"
      ]
    },
    {
      "cell_type": "markdown",
      "source": [
        "Importing Required packages \n"
      ],
      "metadata": {
        "id": "CWkmNY3KgOXd"
      }
    },
    {
      "cell_type": "code",
      "execution_count": null,
      "metadata": {
        "id": "JaQl5ZMZtSCm"
      },
      "outputs": [],
      "source": [
        "import pandas as pd\n",
        "import librosa \n",
        "import os \n",
        "import numpy as np\n",
        "import matplotlib.pyplot as plt\n",
        "from tensorflow import keras\n",
        "from tensorflow.keras import models\n",
        "from tensorflow.keras.models import load_model\n",
        "from sklearn.preprocessing import LabelEncoder\n",
        "from keras.models import Model\n",
        "from keras.layers import Input, Dense, LSTM, Dropout\n",
        "import glob\n",
        "import random\n",
        "from keras.utils import to_categorical\n",
        "from sklearn.metrics import accuracy_score\n",
        "from sklearn.metrics import precision_score, recall_score"
      ]
    },
    {
      "cell_type": "markdown",
      "source": [
        "Data Preprocessing Steps"
      ],
      "metadata": {
        "id": "lqXvoMGxgTZD"
      }
    },
    {
      "cell_type": "code",
      "source": [
        "dataset_path = \"/content/drive/MyDrive/Dataset/TESS Toronto emotional speech set data\"  #path to dataset "
      ],
      "metadata": {
        "id": "Afi1rnQ0tcoq"
      },
      "execution_count": null,
      "outputs": []
    },
    {
      "cell_type": "code",
      "source": [
        "audios = []\n",
        "emotion = []\n",
        "speaker= []       #setting up lists to store individuals (X and Ys) for data to fit into the model"
      ],
      "metadata": {
        "id": "EW-0QmS5tfIM"
      },
      "execution_count": null,
      "outputs": []
    },
    {
      "cell_type": "code",
      "source": [
        "#Iterating over the dataset directory to store audio file paths and truth labels in the lists defined above \n",
        "\n",
        "for file_path in glob.glob(dataset_path + \"/*/*\"):      \n",
        "    audios.append(file_path)\n",
        "    parts = file_path.split(\"_\")\n",
        "    emotion.append(parts[-1].split(\".\")[0])\n",
        "    speaker.append((parts[-3].split(\"/\")[1]))\n",
        "\n",
        "speaker[2374] ='OAF'  #Specific audio file is named wrong in the audio set directory "
      ],
      "metadata": {
        "id": "1fOEkJIovQ4M"
      },
      "execution_count": null,
      "outputs": []
    },
    {
      "cell_type": "code",
      "source": [
        "print(audios[2374]) #file which is not named properly in the dataset \n",
        "print(speaker[2374]) #checking the updated file name\n",
        "print(len(emotion))\n",
        "print(len(audios))\n",
        "print(len(speaker))"
      ],
      "metadata": {
        "colab": {
          "base_uri": "https://localhost:8080/"
        },
        "id": "RIVn9b9FwFdJ",
        "outputId": "bacb7700-630b-4493-d061-a9ee743886ec"
      },
      "execution_count": null,
      "outputs": [
        {
          "output_type": "stream",
          "name": "stdout",
          "text": [
            "/content/drive/MyDrive/Dataset/TESS Toronto emotional speech set data/OAF_neutral/OA_bite_neutral.wav\n",
            "OAF\n",
            "2799\n",
            "2799\n",
            "2799\n"
          ]
        }
      ]
    },
    {
      "cell_type": "code",
      "source": [
        "unique_elements = set(emotion) #creating a set of unique elements of emotion labels\n",
        "print(unique_elements)\n",
        "unique_elements = set(speaker) #creating a set of unique elements of speaker labels\n",
        "print(unique_elements)"
      ],
      "metadata": {
        "colab": {
          "base_uri": "https://localhost:8080/"
        },
        "id": "dLGy3-9hz4RM",
        "outputId": "4b49ac4a-8c6a-459b-8566-7f13a823fe11"
      },
      "execution_count": null,
      "outputs": [
        {
          "output_type": "stream",
          "name": "stdout",
          "text": [
            "{'happy', 'disgust', 'angry', 'ps', 'sad', 'neutral', 'fear'}\n",
            "{'OAF', 'YAF'}\n"
          ]
        }
      ]
    },
    {
      "cell_type": "code",
      "source": [
        "data = [[a, b, c] for a, b, c in zip(audios, emotion, speaker)]     #storing all of our data into a list to be converted into an array to be used with the model\n",
        "DATA = np.array(data)     #type casting into an array \n",
        "DATA.shape\n",
        "np.random.shuffle(DATA) #shuffle the data since everything is arranged in an well-ordered manner which leads to improper results "
      ],
      "metadata": {
        "id": "Lv8PxafD0ZAt"
      },
      "execution_count": null,
      "outputs": []
    },
    {
      "cell_type": "code",
      "source": [
        "def m_extract_mfcc(filename):\n",
        "    y, sr = librosa.load(filename)  #load audio file \n",
        "    mfcc = np.mean(librosa.feature.mfcc(y=y, sr=sr, n_mfcc=40).T, axis=0) #create a single vector - average or summary of the MFCC features across the entire audio file\n",
        "    return mfcc"
      ],
      "metadata": {
        "id": "ly6LKDmO1gCr"
      },
      "execution_count": null,
      "outputs": []
    },
    {
      "cell_type": "code",
      "source": [
        "x=[] #empty list to store mfcc of each audio file \n",
        "for i in range(len(DATA)): \n",
        "    audio_path = DATA[i][0]  #audio file paths are the first element in every element of our list containing audio files path and corresponding labels \n",
        "    mel_spec = m_extract_mfcc(audio_path) #data preprocessing\n",
        "    x.append(mel_spec)\n",
        "print(type(x))\n",
        "print(len(x))"
      ],
      "metadata": {
        "id": "_wDUDybS2Fbz",
        "colab": {
          "base_uri": "https://localhost:8080/"
        },
        "outputId": "9464a003-d235-4644-c7e0-cf2abd3f3b96"
      },
      "execution_count": null,
      "outputs": [
        {
          "output_type": "stream",
          "name": "stdout",
          "text": [
            "<class 'list'>\n",
            "2799\n"
          ]
        }
      ]
    },
    {
      "cell_type": "code",
      "source": [
        "X = [i for i in x]\n",
        "X = np.array(X) #type casting into an array \n",
        "print(\"Before expanding dimensions:\",X.shape) \n",
        "X = np.expand_dims(X, -1) #expanding dimensions so that it will fit for the tensorflow model - (batch_size, timesteps, input_dim, channels)\n",
        "print(\"After expanding dimensions:\", X.shape)"
      ],
      "metadata": {
        "colab": {
          "base_uri": "https://localhost:8080/"
        },
        "id": "z1a00U2q21_I",
        "outputId": "386951ef-e0fb-4147-f415-51e39cb85d0d"
      },
      "execution_count": null,
      "outputs": [
        {
          "output_type": "stream",
          "name": "stdout",
          "text": [
            "Before expanding dimensions: (2799, 40)\n",
            "After expanding dimensions: (2799, 40, 1)\n"
          ]
        }
      ]
    },
    {
      "cell_type": "markdown",
      "source": [
        "Label Encoding"
      ],
      "metadata": {
        "id": "UYndlV3-gYOU"
      }
    },
    {
      "cell_type": "code",
      "source": [
        "emo = []\n",
        "spe = []\n",
        "le = LabelEncoder()                         #creating label encoder and fitting it on our labels for y_truths for training\n",
        "for i in range(len(DATA)): \n",
        "    z = DATA[i][1]\n",
        "    emo.append(z)\n",
        "y_encoded = le.fit_transform(emo)\n",
        "y_emotion = to_categorical(y_encoded)       #convert label-encoded categorical data into one-hot encoded vectors\n",
        "for i in range(len(DATA)): \n",
        "    z = DATA[i][2]\n",
        "    spe.append(z)\n",
        "y_encoded_1 = le.fit_transform(spe)\n",
        "y_speaker = to_categorical(y_encoded_1)     #convert label-encoded categorical data into one-hot encoded vectors\n",
        "\n",
        "print(y_encoded[4])\n",
        "print(emo[4])\n"
      ],
      "metadata": {
        "id": "YdOVt6919daA",
        "colab": {
          "base_uri": "https://localhost:8080/"
        },
        "outputId": "8ffcbd0f-90fb-4a4b-a8ca-1b20ac82864e"
      },
      "execution_count": null,
      "outputs": [
        {
          "output_type": "stream",
          "name": "stdout",
          "text": [
            "2\n",
            "fear\n"
          ]
        }
      ]
    },
    {
      "cell_type": "markdown",
      "source": [
        "Creating a Model Architecture"
      ],
      "metadata": {
        "id": "Uj6UMhKrgfJr"
      }
    },
    {
      "cell_type": "code",
      "source": [
        "# Define input layer with shape (40, 1) - from code above\n",
        "inputs = Input(shape=(40, 1))\n",
        "lstm1 = LSTM(128, return_sequences=False)(inputs)\n",
        "dropout1 = Dropout(0.2)(lstm1) #regularisation\n",
        "dense1 = Dense(64, activation='relu')(dropout1)\n",
        "dropout2 = Dropout(0.2)(dense1) #regularisation\n",
        "emotion_output = Dense(7, activation='softmax', name='emotion_output')(dropout2)\n",
        "dense2 = Dense(32, activation='relu')(dropout1)\n",
        "dropout3 = Dropout(0.2)(dense2) #regularisation\n",
        "speaker_output = Dense(2, activation='softmax', name='speaker_output')(dropout3)\n",
        "\n",
        "model = Model(inputs=inputs, outputs=[emotion_output, speaker_output]) #create model instance\n",
        "\n",
        "metrics = ['accuracy']\n",
        "learning_rate = 0.001 \n",
        "optimizer = keras.optimizers.Adam(learning_rate=learning_rate)\n",
        "losses = ['categorical_crossentropy', keras.losses.BinaryCrossentropy()]\n",
        "\n",
        "\n",
        "model.compile(optimizer=optimizer, loss=losses, metrics=metrics) #model complilation\n",
        "model.summary()\n"
      ],
      "metadata": {
        "colab": {
          "base_uri": "https://localhost:8080/"
        },
        "id": "gDCi4zfP-F1o",
        "outputId": "b6dca474-dce3-468c-94ad-53598a931517"
      },
      "execution_count": null,
      "outputs": [
        {
          "output_type": "stream",
          "name": "stdout",
          "text": [
            "Model: \"model\"\n",
            "__________________________________________________________________________________________________\n",
            " Layer (type)                   Output Shape         Param #     Connected to                     \n",
            "==================================================================================================\n",
            " input_1 (InputLayer)           [(None, 40, 1)]      0           []                               \n",
            "                                                                                                  \n",
            " lstm (LSTM)                    (None, 128)          66560       ['input_1[0][0]']                \n",
            "                                                                                                  \n",
            " dropout (Dropout)              (None, 128)          0           ['lstm[0][0]']                   \n",
            "                                                                                                  \n",
            " dense (Dense)                  (None, 64)           8256        ['dropout[0][0]']                \n",
            "                                                                                                  \n",
            " dense_1 (Dense)                (None, 32)           4128        ['dropout[0][0]']                \n",
            "                                                                                                  \n",
            " dropout_1 (Dropout)            (None, 64)           0           ['dense[0][0]']                  \n",
            "                                                                                                  \n",
            " dropout_2 (Dropout)            (None, 32)           0           ['dense_1[0][0]']                \n",
            "                                                                                                  \n",
            " emotion_output (Dense)         (None, 7)            455         ['dropout_1[0][0]']              \n",
            "                                                                                                  \n",
            " speaker_output (Dense)         (None, 2)            66          ['dropout_2[0][0]']              \n",
            "                                                                                                  \n",
            "==================================================================================================\n",
            "Total params: 79,465\n",
            "Trainable params: 79,465\n",
            "Non-trainable params: 0\n",
            "__________________________________________________________________________________________________\n"
          ]
        }
      ]
    },
    {
      "cell_type": "markdown",
      "source": [
        "Training and Validation on our dataset - Emotion and Speaker Recognition - Classification"
      ],
      "metadata": {
        "id": "su0VQ0L5gjoH"
      }
    },
    {
      "cell_type": "code",
      "source": [
        "history = model.fit(X, [y_emotion, y_speaker], validation_split=0.3, epochs=20, batch_size=32)"
      ],
      "metadata": {
        "colab": {
          "base_uri": "https://localhost:8080/"
        },
        "id": "ZE9GT7PK-XYS",
        "outputId": "0cd98b83-9ac9-4452-ee7f-3783bd2d39d8"
      },
      "execution_count": null,
      "outputs": [
        {
          "output_type": "stream",
          "name": "stdout",
          "text": [
            "Epoch 1/20\n",
            "62/62 [==============================] - 11s 19ms/step - loss: 1.7869 - emotion_output_loss: 1.1913 - speaker_output_loss: 0.5956 - emotion_output_accuracy: 0.5294 - speaker_output_accuracy: 0.6784 - val_loss: 1.0135 - val_emotion_output_loss: 0.5520 - val_speaker_output_loss: 0.4615 - val_emotion_output_accuracy: 0.7940 - val_speaker_output_accuracy: 0.8167\n",
            "Epoch 2/20\n",
            "62/62 [==============================] - 1s 10ms/step - loss: 0.7606 - emotion_output_loss: 0.4296 - speaker_output_loss: 0.3311 - emotion_output_accuracy: 0.8448 - speaker_output_accuracy: 0.8882 - val_loss: 0.4321 - val_emotion_output_loss: 0.2639 - val_speaker_output_loss: 0.1682 - val_emotion_output_accuracy: 0.9048 - val_speaker_output_accuracy: 0.9476\n",
            "Epoch 3/20\n",
            "62/62 [==============================] - 1s 11ms/step - loss: 0.3967 - emotion_output_loss: 0.2476 - speaker_output_loss: 0.1492 - emotion_output_accuracy: 0.9209 - speaker_output_accuracy: 0.9576 - val_loss: 0.2852 - val_emotion_output_loss: 0.1886 - val_speaker_output_loss: 0.0965 - val_emotion_output_accuracy: 0.9321 - val_speaker_output_accuracy: 0.9679\n",
            "Epoch 4/20\n",
            "62/62 [==============================] - 1s 13ms/step - loss: 0.2937 - emotion_output_loss: 0.2026 - speaker_output_loss: 0.0911 - emotion_output_accuracy: 0.9331 - speaker_output_accuracy: 0.9735 - val_loss: 0.2335 - val_emotion_output_loss: 0.1862 - val_speaker_output_loss: 0.0473 - val_emotion_output_accuracy: 0.9345 - val_speaker_output_accuracy: 0.9857\n",
            "Epoch 5/20\n",
            "62/62 [==============================] - 1s 13ms/step - loss: 0.2055 - emotion_output_loss: 0.1461 - speaker_output_loss: 0.0594 - emotion_output_accuracy: 0.9587 - speaker_output_accuracy: 0.9826 - val_loss: 0.1882 - val_emotion_output_loss: 0.1582 - val_speaker_output_loss: 0.0301 - val_emotion_output_accuracy: 0.9464 - val_speaker_output_accuracy: 0.9905\n",
            "Epoch 6/20\n",
            "62/62 [==============================] - 1s 13ms/step - loss: 0.1716 - emotion_output_loss: 0.1324 - speaker_output_loss: 0.0392 - emotion_output_accuracy: 0.9617 - speaker_output_accuracy: 0.9883 - val_loss: 0.2038 - val_emotion_output_loss: 0.1320 - val_speaker_output_loss: 0.0718 - val_emotion_output_accuracy: 0.9548 - val_speaker_output_accuracy: 0.9774\n",
            "Epoch 7/20\n",
            "62/62 [==============================] - 1s 13ms/step - loss: 0.1734 - emotion_output_loss: 0.1299 - speaker_output_loss: 0.0435 - emotion_output_accuracy: 0.9581 - speaker_output_accuracy: 0.9842 - val_loss: 0.2218 - val_emotion_output_loss: 0.1491 - val_speaker_output_loss: 0.0727 - val_emotion_output_accuracy: 0.9500 - val_speaker_output_accuracy: 0.9690\n",
            "Epoch 8/20\n",
            "62/62 [==============================] - 1s 11ms/step - loss: 0.1334 - emotion_output_loss: 0.0995 - speaker_output_loss: 0.0339 - emotion_output_accuracy: 0.9699 - speaker_output_accuracy: 0.9903 - val_loss: 0.1383 - val_emotion_output_loss: 0.1168 - val_speaker_output_loss: 0.0214 - val_emotion_output_accuracy: 0.9631 - val_speaker_output_accuracy: 0.9893\n",
            "Epoch 9/20\n",
            "62/62 [==============================] - 1s 10ms/step - loss: 0.1114 - emotion_output_loss: 0.0917 - speaker_output_loss: 0.0197 - emotion_output_accuracy: 0.9714 - speaker_output_accuracy: 0.9944 - val_loss: 0.1005 - val_emotion_output_loss: 0.0822 - val_speaker_output_loss: 0.0184 - val_emotion_output_accuracy: 0.9750 - val_speaker_output_accuracy: 0.9929\n",
            "Epoch 10/20\n",
            "62/62 [==============================] - 1s 10ms/step - loss: 0.0905 - emotion_output_loss: 0.0685 - speaker_output_loss: 0.0220 - emotion_output_accuracy: 0.9791 - speaker_output_accuracy: 0.9939 - val_loss: 0.1290 - val_emotion_output_loss: 0.1117 - val_speaker_output_loss: 0.0173 - val_emotion_output_accuracy: 0.9667 - val_speaker_output_accuracy: 0.9952\n",
            "Epoch 11/20\n",
            "62/62 [==============================] - 1s 9ms/step - loss: 0.1281 - emotion_output_loss: 0.1066 - speaker_output_loss: 0.0215 - emotion_output_accuracy: 0.9632 - speaker_output_accuracy: 0.9954 - val_loss: 0.1682 - val_emotion_output_loss: 0.1403 - val_speaker_output_loss: 0.0279 - val_emotion_output_accuracy: 0.9476 - val_speaker_output_accuracy: 0.9893\n",
            "Epoch 12/20\n",
            "62/62 [==============================] - 1s 10ms/step - loss: 0.0981 - emotion_output_loss: 0.0773 - speaker_output_loss: 0.0208 - emotion_output_accuracy: 0.9786 - speaker_output_accuracy: 0.9934 - val_loss: 0.0973 - val_emotion_output_loss: 0.0775 - val_speaker_output_loss: 0.0198 - val_emotion_output_accuracy: 0.9762 - val_speaker_output_accuracy: 0.9940\n",
            "Epoch 13/20\n",
            "62/62 [==============================] - 1s 10ms/step - loss: 0.0661 - emotion_output_loss: 0.0538 - speaker_output_loss: 0.0123 - emotion_output_accuracy: 0.9821 - speaker_output_accuracy: 0.9959 - val_loss: 0.1016 - val_emotion_output_loss: 0.0857 - val_speaker_output_loss: 0.0159 - val_emotion_output_accuracy: 0.9702 - val_speaker_output_accuracy: 0.9952\n",
            "Epoch 14/20\n",
            "62/62 [==============================] - 1s 9ms/step - loss: 0.0658 - emotion_output_loss: 0.0521 - speaker_output_loss: 0.0137 - emotion_output_accuracy: 0.9842 - speaker_output_accuracy: 0.9954 - val_loss: 0.1253 - val_emotion_output_loss: 0.0997 - val_speaker_output_loss: 0.0256 - val_emotion_output_accuracy: 0.9667 - val_speaker_output_accuracy: 0.9893\n",
            "Epoch 15/20\n",
            "62/62 [==============================] - 1s 9ms/step - loss: 0.1557 - emotion_output_loss: 0.1188 - speaker_output_loss: 0.0370 - emotion_output_accuracy: 0.9668 - speaker_output_accuracy: 0.9883 - val_loss: 0.1141 - val_emotion_output_loss: 0.0996 - val_speaker_output_loss: 0.0145 - val_emotion_output_accuracy: 0.9667 - val_speaker_output_accuracy: 0.9964\n",
            "Epoch 16/20\n",
            "62/62 [==============================] - 1s 9ms/step - loss: 0.0972 - emotion_output_loss: 0.0776 - speaker_output_loss: 0.0196 - emotion_output_accuracy: 0.9735 - speaker_output_accuracy: 0.9934 - val_loss: 0.1612 - val_emotion_output_loss: 0.1412 - val_speaker_output_loss: 0.0200 - val_emotion_output_accuracy: 0.9571 - val_speaker_output_accuracy: 0.9929\n",
            "Epoch 17/20\n",
            "62/62 [==============================] - 1s 9ms/step - loss: 0.0886 - emotion_output_loss: 0.0760 - speaker_output_loss: 0.0126 - emotion_output_accuracy: 0.9755 - speaker_output_accuracy: 0.9964 - val_loss: 0.0867 - val_emotion_output_loss: 0.0717 - val_speaker_output_loss: 0.0150 - val_emotion_output_accuracy: 0.9821 - val_speaker_output_accuracy: 0.9940\n",
            "Epoch 18/20\n",
            "62/62 [==============================] - 1s 9ms/step - loss: 0.0559 - emotion_output_loss: 0.0420 - speaker_output_loss: 0.0140 - emotion_output_accuracy: 0.9857 - speaker_output_accuracy: 0.9969 - val_loss: 0.0941 - val_emotion_output_loss: 0.0757 - val_speaker_output_loss: 0.0184 - val_emotion_output_accuracy: 0.9750 - val_speaker_output_accuracy: 0.9917\n",
            "Epoch 19/20\n",
            "62/62 [==============================] - 1s 10ms/step - loss: 0.0729 - emotion_output_loss: 0.0516 - speaker_output_loss: 0.0213 - emotion_output_accuracy: 0.9816 - speaker_output_accuracy: 0.9939 - val_loss: 0.1187 - val_emotion_output_loss: 0.0918 - val_speaker_output_loss: 0.0270 - val_emotion_output_accuracy: 0.9655 - val_speaker_output_accuracy: 0.9917\n",
            "Epoch 20/20\n",
            "62/62 [==============================] - 1s 10ms/step - loss: 0.0500 - emotion_output_loss: 0.0382 - speaker_output_loss: 0.0118 - emotion_output_accuracy: 0.9893 - speaker_output_accuracy: 0.9969 - val_loss: 0.0817 - val_emotion_output_loss: 0.0669 - val_speaker_output_loss: 0.0147 - val_emotion_output_accuracy: 0.9810 - val_speaker_output_accuracy: 0.9952\n"
          ]
        }
      ]
    },
    {
      "cell_type": "markdown",
      "source": [
        "Plotting losses and model accuracies for Training and Validation steps"
      ],
      "metadata": {
        "id": "4FyVhmBIhck-"
      }
    },
    {
      "cell_type": "code",
      "source": [
        "# Plot accuracy\n",
        "plt.figure(figsize=(8, 6))\n",
        "plt.plot(history.epoch, history.history['emotion_output_accuracy'], linestyle='-', color='steelblue', linewidth=2, label='Emotion (Train)')\n",
        "plt.plot(history.epoch, history.history['speaker_output_accuracy'], linestyle='--', color='salmon', linewidth=2, label='Speaker (Train)')\n",
        "plt.plot(history.epoch, history.history['val_emotion_output_accuracy'], linestyle=':', color='darkgreen', linewidth=2, label='Emotion (Val)')\n",
        "plt.plot(history.epoch, history.history['val_speaker_output_accuracy'], linestyle='-.', color='purple', linewidth=2, label='Speaker (Val)')\n",
        "plt.grid(True)\n",
        "plt.legend(title='Legend', loc='lower right')\n",
        "plt.title('Model Accuracy')\n",
        "plt.xlabel('Epoch')\n",
        "plt.ylabel('Accuracy')\n",
        "plt.xticks(history.epoch)\n",
        "plt.show()\n",
        "\n",
        "print(\"\\n\")\n",
        "print(\"\\n\")\n",
        "\n",
        "# Plot loss\n",
        "plt.figure(figsize=(8, 6))\n",
        "plt.plot(history.epoch, history.history['loss'], linestyle='-', color='indigo', linewidth=2, label='Train')\n",
        "plt.plot(history.epoch, history.history['val_loss'], linestyle='--', color='coral', linewidth=2, label='Val')\n",
        "plt.grid(True)\n",
        "plt.legend(loc='upper right')\n",
        "plt.title('Model Loss')\n",
        "plt.xlabel('Epoch')\n",
        "plt.ylabel('Loss')\n",
        "plt.xticks(history.epoch)\n",
        "plt.show()\n"
      ],
      "metadata": {
        "colab": {
          "base_uri": "https://localhost:8080/",
          "height": 1000
        },
        "id": "rSYQG7ZvVRBT",
        "outputId": "fe2daefd-d7cf-4262-b670-3e99e87f4155"
      },
      "execution_count": null,
      "outputs": [
        {
          "output_type": "display_data",
          "data": {
            "text/plain": [
              "<Figure size 800x600 with 1 Axes>"
            ],
            "image/png": "[encoded data removed]"
          },
          "metadata": {}
        },
        {
          "output_type": "stream",
          "name": "stdout",
          "text": [
            "\n",
            "\n",
            "\n",
            "\n"
          ]
        },
        {
          "output_type": "display_data",
          "data": {
            "text/plain": [
              "<Figure size 800x600 with 1 Axes>"
            ],
            "image/png": "[encoded data removed]"
          },
          "metadata": {}
        }
      ]
    },
    {
      "cell_type": "markdown",
      "source": [
        "Saving - Loading Model \n",
        "\n",
        "Running the Model on the test audio (Not part of the traning)"
      ],
      "metadata": {
        "id": "8M8omJ4PgyZy"
      }
    },
    {
      "cell_type": "code",
      "source": [
        "model.save(\"model.h5\")    #save model for prediction\n",
        "model = load_model(\"/content/model.h5\") #load model\n",
        "\n",
        "\n",
        "#test audio pre processing\n",
        "emotion_gt = []\n",
        "speaker_gt = []\n",
        "test_file = \"/content/YAF_rain_fear.wav\"\n",
        "parts = test_file.split(\"_\")\n",
        "emotion_gt.append(parts[-1].split(\".\")[0])\n",
        "speaker_gt.append((parts[-3].split(\"/\")[2]))\n",
        "x_test= []\n",
        "mel_spec = m_extract_mfcc(test_file)\n",
        "x_test.append(mel_spec)\n",
        "print(type(x_test))\n",
        "print(len(x_test))\n",
        "X_test = np.array(x_test)\n",
        "print(type(X_test))\n",
        "print(X_test.shape)\n",
        "print(emotion_gt)\n",
        "print(speaker_gt)"
      ],
      "metadata": {
        "colab": {
          "base_uri": "https://localhost:8080/"
        },
        "id": "q5ZdJoTuQIkD",
        "outputId": "59b02eb9-5a7f-4ea2-8a5e-2fd8b47a9ad8"
      },
      "execution_count": null,
      "outputs": [
        {
          "output_type": "stream",
          "name": "stdout",
          "text": [
            "<class 'list'>\n",
            "1\n",
            "<class 'numpy.ndarray'>\n",
            "(1, 40)\n",
            "['fear']\n",
            "['YAF']\n"
          ]
        }
      ]
    },
    {
      "cell_type": "code",
      "source": [
        "y_pred_emotion, y_pred_speaker = model.predict(X_test)    #prediction"
      ],
      "metadata": {
        "colab": {
          "base_uri": "https://localhost:8080/"
        },
        "id": "dR4mnycCQbST",
        "outputId": "b468cdab-8eba-40c3-9a5d-67f99f00e8ac"
      },
      "execution_count": null,
      "outputs": [
        {
          "output_type": "stream",
          "name": "stdout",
          "text": [
            "1/1 [==============================] - 1s 666ms/step\n"
          ]
        }
      ]
    },
    {
      "cell_type": "markdown",
      "source": [
        "Prediction"
      ],
      "metadata": {
        "id": "OlWR2BjLg9j-"
      }
    },
    {
      "cell_type": "code",
      "source": [
        "emotion_labels = ['neutral', 'disgust', 'fear', 'ps', 'happy', 'angry', 'sad']\n",
        "speaker_labels = ['YAF', 'OAF']\n",
        "\n",
        "# Create and fit LabelEncoder for emotion labels\n",
        "emotion_le = LabelEncoder()\n",
        "emotion_le.fit(emotion_labels)\n",
        "\n",
        "# Create and fit LabelEncoder for speaker labels\n",
        "speaker_le = LabelEncoder()\n",
        "speaker_le.fit(speaker_labels)\n",
        "\n",
        "# Convert the predicted emotion and speaker labels from one-hot encoded format to class labels\n",
        "emotion_labels = emotion_le.inverse_transform(np.argmax(y_pred_emotion, axis=1))\n",
        "speaker_labels = speaker_le.inverse_transform(np.argmax(y_pred_speaker, axis=1))\n",
        "\n",
        "# Print the converted labels\n",
        "print(emotion_labels)\n",
        "print(speaker_labels)\n"
      ],
      "metadata": {
        "colab": {
          "base_uri": "https://localhost:8080/"
        },
        "id": "oVV2JIVmQdjl",
        "outputId": "df332eb0-7038-4675-bff1-1afa0513f60c"
      },
      "execution_count": null,
      "outputs": [
        {
          "output_type": "stream",
          "name": "stdout",
          "text": [
            "['fear']\n",
            "['YAF']\n"
          ]
        }
      ]
    },
    {
      "cell_type": "markdown",
      "source": [
        "Accuracy measure\n",
        "\n",
        "\n"
      ],
      "metadata": {
        "id": "18M7mIPrrpwu"
      }
    },
    {
      "cell_type": "code",
      "source": [
        "# Calculate accuracy for emotion labels\n",
        "emotion_accuracy = accuracy_score(emotion_gt, emotion_labels)\n",
        "\n",
        "# Calculate accuracy for speaker labels\n",
        "speaker_accuracy = accuracy_score(speaker_gt, speaker_labels)\n",
        "\n",
        "# Print the accuracies\n",
        "print(f'Emotion Accuracy: {emotion_accuracy:.2f}')\n",
        "print(f'Speaker Accuracy: {speaker_accuracy:.2f}')\n"
      ],
      "metadata": {
        "colab": {
          "base_uri": "https://localhost:8080/"
        },
        "id": "fPrN2i1mp6bK",
        "outputId": "9617e958-19b2-455f-b171-70ca7e4ae7e2"
      },
      "execution_count": null,
      "outputs": [
        {
          "output_type": "stream",
          "name": "stdout",
          "text": [
            "Emotion Accuracy: 1.00\n",
            "Speaker Accuracy: 1.00\n"
          ]
        }
      ]
    },
    {
      "cell_type": "markdown",
      "source": [
        "Precision and Recall"
      ],
      "metadata": {
        "id": "KJ8O6ZUBruGc"
      }
    },
    {
      "cell_type": "code",
      "source": [
        "\n",
        "# Calculate true positives, false positives, false negatives for emotion labels\n",
        "TP_emotion = np.sum((emotion_gt == emotion_labels) & (emotion_labels != 'neutral'))\n",
        "FP_emotion = np.sum((emotion_gt != emotion_labels) & (emotion_labels != 'neutral'))\n",
        "FN_emotion = np.sum((emotion_gt == 'neutral') & (emotion_labels != 'neutral'))\n",
        "\n",
        "# Calculate precision and recall for emotion labels\n",
        "precision_emotion = precision_score(emotion_gt, emotion_labels, average='weighted', labels=emotion_labels)\n",
        "recall_emotion = recall_score(emotion_gt, emotion_labels, average='weighted', labels=emotion_labels)\n",
        "\n",
        "# Calculate true positives, false positives, false negatives for speaker labels\n",
        "TP_speaker = np.sum(speaker_gt == speaker_labels)\n",
        "FP_speaker = np.sum((speaker_gt != speaker_labels) & (speaker_labels != 'neutral'))\n",
        "FN_speaker = np.sum(speaker_gt != speaker_labels)\n",
        "\n",
        "# Calculate precision and recall for speaker labels\n",
        "precision_speaker = precision_score(speaker_gt, speaker_labels, average='weighted', labels=speaker_labels)\n",
        "recall_speaker = recall_score(speaker_gt, speaker_labels, average='weighted', labels=speaker_labels)\n",
        "\n",
        "print(\"Emotion Precision:\", precision_emotion)\n",
        "print(\"Emotion Recall:\", recall_emotion)\n",
        "print(\"Speaker Precision:\", precision_speaker)\n",
        "print(\"Speaker Recall:\", recall_speaker)\n"
      ],
      "metadata": {
        "colab": {
          "base_uri": "https://localhost:8080/"
        },
        "id": "7u-6HWMRiham",
        "outputId": "feb9ff1c-80f1-49ef-8d26-83e827448a94"
      },
      "execution_count": null,
      "outputs": [
        {
          "output_type": "stream",
          "name": "stdout",
          "text": [
            "Emotion Precision: 1.0\n",
            "Emotion Recall: 1.0\n",
            "Speaker Precision: 1.0\n",
            "Speaker Recall: 1.0\n"
          ]
        }
      ]
    },
    {
      "cell_type": "markdown",
      "source": [
        "Saving - Loading Model \n",
        "\n",
        "Running the Model on the test audio (Custom recorded sample)"
      ],
      "metadata": {
        "id": "dfF6kFCOry_G"
      }
    },
    {
      "cell_type": "code",
      "source": [
        "#test audio pre processing\n",
        "\n",
        "test_file = \"/content/yaf-like_hapy_happy.wav\"\n",
        "\n",
        "x_test_new= []\n",
        "\n",
        "y, sr = librosa.load(test_file, sr = 24400)  #load audio file \n",
        "mfcc = np.mean(librosa.feature.mfcc(y=y, sr=sr, n_mfcc=40).T, axis=0)\n",
        "# mel_spec = m_extract_mfcc(test_file)\n",
        "x_test_new.append(mfcc)\n",
        "\n",
        "print(type(x_test_new))\n",
        "print(len(x_test_new))\n",
        "X_test_new = np.array(x_test_new)\n",
        "print(type(X_test_new))\n",
        "print(X_test_new.shape)\n",
        "\n",
        "\n"
      ],
      "metadata": {
        "colab": {
          "base_uri": "https://localhost:8080/"
        },
        "id": "9zMc6RDHkp2G",
        "outputId": "9c90b0bb-e504-4b1f-eed1-7fbb1d68e963"
      },
      "execution_count": null,
      "outputs": [
        {
          "output_type": "stream",
          "name": "stdout",
          "text": [
            "<class 'list'>\n",
            "1\n",
            "<class 'numpy.ndarray'>\n",
            "(1, 40)\n"
          ]
        },
        {
          "output_type": "stream",
          "name": "stderr",
          "text": [
            "<ipython-input-137-366671fc8992>:7: UserWarning:\n",
            "\n",
            "PySoundFile failed. Trying audioread instead.\n",
            "\n",
            "/usr/local/lib/python3.9/dist-packages/librosa/core/audio.py:184: FutureWarning:\n",
            "\n",
            "librosa.core.audio.__audioread_load\n",
            "\tDeprecated as of librosa version 0.10.0.\n",
            "\tIt will be removed in librosa version 1.0.\n",
            "\n"
          ]
        }
      ]
    },
    {
      "cell_type": "code",
      "source": [
        "y_pred_emotion, y_pred_speaker = model.predict(X_test_new)    #prediction"
      ],
      "metadata": {
        "colab": {
          "base_uri": "https://localhost:8080/"
        },
        "id": "eiaOtIO9lamR",
        "outputId": "e37fe54d-1ef3-443d-b83f-d4158a93a3c3"
      },
      "execution_count": null,
      "outputs": [
        {
          "output_type": "stream",
          "name": "stdout",
          "text": [
            "1/1 [==============================] - 0s 23ms/step\n"
          ]
        }
      ]
    },
    {
      "cell_type": "markdown",
      "source": [
        "Prediction"
      ],
      "metadata": {
        "id": "l2kLjT_Qr-WJ"
      }
    },
    {
      "cell_type": "code",
      "source": [
        "emotion_labels = ['neutral', 'disgust', 'fear', 'ps', 'happy', 'angry', 'sad']\n",
        "speaker_labels = ['YAF', 'OAF']\n",
        "\n",
        "# Create and fit LabelEncoder for emotion labels\n",
        "emotion_le = LabelEncoder()\n",
        "emotion_le.fit(emotion_labels)\n",
        "\n",
        "# Create and fit LabelEncoder for speaker labels\n",
        "speaker_le = LabelEncoder()\n",
        "speaker_le.fit(speaker_labels)\n",
        "\n",
        "# Convert the predicted emotion and speaker labels from one-hot encoded format to class labels\n",
        "emotion_labels = emotion_le.inverse_transform(np.argmax(y_pred_emotion, axis=1))\n",
        "speaker_labels = speaker_le.inverse_transform(np.argmax(y_pred_speaker, axis=1))\n",
        "\n",
        "# Print the converted labels\n",
        "print(emotion_labels)\n",
        "print(speaker_labels)\n"
      ],
      "metadata": {
        "colab": {
          "base_uri": "https://localhost:8080/"
        },
        "id": "IoZyGI3NlcJQ",
        "outputId": "eea26131-52fb-4e0f-8c30-6406bbeafcf8"
      },
      "execution_count": null,
      "outputs": [
        {
          "output_type": "stream",
          "name": "stdout",
          "text": [
            "['disgust']\n",
            "['YAF']\n"
          ]
        }
      ]
    }
  ]
}
